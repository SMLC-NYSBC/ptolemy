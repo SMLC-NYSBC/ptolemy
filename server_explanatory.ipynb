{
 "cells": [
  {
   "attachments": {},
   "cell_type": "markdown",
   "metadata": {},
   "source": [
    "# Ptolemy-Server Explanatory"
   ]
  },
  {
   "attachments": {},
   "cell_type": "markdown",
   "metadata": {},
   "source": [
    "Persistent server is recommended over cli for runtime and enables active learning. \n",
    "\n",
    "The server itself is essentially a lightweight fastapi wrapper over the Ptolemy and Ptolemy_AL classes. \n",
    "\n",
    "Required packages beyond base Ptolemy/Ptolemy_AL packages: fastapi, uvicorn, pydantic\n"
   ]
  },
  {
   "attachments": {},
   "cell_type": "markdown",
   "metadata": {},
   "source": [
    "### Running the server"
   ]
  },
  {
   "attachments": {},
   "cell_type": "markdown",
   "metadata": {},
   "source": [
    "navigate to the ptolemy directory (the directory in which this notebook is contained) and run \n",
    "\n",
    "```\n",
    "uvicorn ptolemy.ptolemy_server:app --host [hostip] --port [port]\n",
    "```"
   ]
  },
  {
   "attachments": {},
   "cell_type": "markdown",
   "metadata": {},
   "source": [
    "## Example Workflow"
   ]
  },
  {
   "attachments": {},
   "cell_type": "markdown",
   "metadata": {},
   "source": [
    "Initialize server, for this tutorial we will assume it's running locally at port 8000\\\n",
    "```baseurl = 'http://127.0.0.1:8000'```\n",
    "\n",
    "New grid is loaded. Let's say we want to initialize a new session, with historical sessions.\\\n",
    "Make a post request to ```/initialize_new_session```. For example\n",
    "```\n",
    "payload={\n",
    "    'historical_state_paths': [list of historical state paths]\n",
    "}\n",
    "payload = json.dumps(payload)\n",
    "requests.post(baseurl + '/initialize_new_session', data=payload)\n",
    "```\n",
    "Next, the microscope operation software takes several low-mag tile images of the grid. After each tile image is taken, make a post request to ```/push_lm``` with the tile image. ```/push_lm``` automatically detects squares with the GMM, scores them with the prior model and adds their metadata to the ```current_lm_state```.\n",
    "\n",
    "```\n",
    "payload={\n",
    "    'image': image.tolist(),\n",
    "    'grid_id': # integer grid id\n",
    "    'tile_id': # optional integer tile id\n",
    "}\n",
    "payload = json.dumps(payload)\n",
    "requests.post(baseurl + '/push_lm', payload)\n",
    "```\n",
    "After all the tile images are pushed, if there are pre-selected squares from a screening session that are known to contain good holes, the microscope can be instructed to image these squares and holes. Alternatively, the server can immediately be queried via ```/select_next_square```, which runs the active learning GP on the unvisted squares in ```current_lm_state``` and returns the ```current_lm_state``` dataframe containing columns ```square_id, tile_id, grid_id, center, features, prior_score, visited, GP_probs```\n",
    "\n",
    "They are as follows:\n",
    "```\n",
    "- square_id: a unique index for identifying the square\n",
    "- tile_id: an integer identifier of the tile image that the square came from, None if not specified\n",
    "- grid_id: an integer identifier for the grid that the square came from\n",
    "- center: coordinates of the square centers\n",
    "- features: vector of low-mag GP features: [mean_brightness, max_brightness, min_brightness, var_brightness, area, kurtosis_pixelintensities, skew_pixelintensities]\n",
    "- prior_score: score as determined by the prior square classification model\n",
    "- visited: boolean square has been visited/not visited\n",
    "- GP_probs: Probability from GP that the square contains the most holes with CTF < 5\n",
    "```\n",
    "This information can be used to select a square to visit. For suggestions/recommendations based on your workflow, see TODO\n",
    "\n",
    "[TODO Also should talk about setting the noice-hole-intensity]\n",
    "\n",
    "Once a medium-mag image of the square has been taken, a post request to ```push_and_evaluate_mm``` with the image can be made:\n",
    "\n",
    "```\n",
    "payload={\n",
    "    'image': image.tolist(),\n",
    "    'square_id': # integer square id corresponding to the integer square id in current_lm_state\n",
    "    'mm_img_id': # optional integer medium_mag image id\n",
    "    'grid_id': integer grid id\n",
    "}\n",
    "payload = json.dumps(payload)\n",
    "response = requests.post(baseurl + '/push_and_evaluate_mm', payload)\n",
    "pd.read_csv(io.StringIO(response.json()), index_col='hole_id')\n",
    "```\n",
    "\n",
    "```push_and_evaluate_mm``` does the following:\n",
    "- automatically detects holes in the medium-mag image\n",
    "- scores the holes with the prior hole model\n",
    "- adds the holes to the ```current_mm_state```\n",
    "- sets the detected holes as the ```active_holes```, overwriting any holes that were active previously\n",
    "- runs the medium-mag active learning GP on the ```active_holes```\n",
    "- returns a ```hole_results``` dataframe containing the current_mm_state for the active_holes that can be used to decide which holes to image.\n",
    "\n",
    "The hole results dataframe contains columns ```hole_id, mm_img_id, square_id, grid_id, center, features, prior_score, visited, radius, ctf, ice_thickness, ctf_pred, ice_pred, ctf_var, ice_var```\\\n",
    "They are as follows:\n",
    "```\n",
    "- hole_id: a unique index for identifying the hole\n",
    "- mm_img_id: an optional integer identifier for the medium mag image that this hole is associated with\n",
    "- square_id: an integer identifier for the square that this hole is in. Linked to the square_id in the current_lm_state.\n",
    "- grid_id: an integer identifer for the grid that the hole is in. Linked to the grid_id in the current_lm_state\n",
    "- center: coordinates of the hole centers\n",
    "- features: vector of hole features extracted from the hole-feature extraction model, which are used by the medium-mag GP\n",
    "- prior_score: score of hole as determined by the prior hole classification model\n",
    "- visited: boolean hole has been visited/not visited\n",
    "- radius: radius of the hole determined by the image processing algorithm. Currently they will be identical for all holes in a medium-mag image, but future functionality will allow for attempted refinement of hole radii. \n",
    "- ctf: true ctf resolution (Angstroms) of hole. This is set when a hole is visited, and will be None for holes that have not been visited\n",
    "- ice_thickness: true ice thickness (nm) of hole. This is set when a hole is visited, and will be None for holes that have not been visited\n",
    "- ctf_pred: mean of the posterior ctf distribution for the hole predicted by the GP\n",
    "- ice_pred: mean of the posterior ice thickness distribution for the hole predicted by the GP\n",
    "- ctf_var: variance of the posterior ctf distribution for the hole predicted by the GP\n",
    "- ice_var: variance of the posterior ice thickness distribution for the hole predicted by the GP\n",
    "```\n",
    "\n",
    "This information can be used to select which holes to visit. For suggestions/recommendations based on your workflow, see TODO. In general, we believe that given the relatively low cost of imaging an additional hole at this stage (30 seconds - 1 minute) and the high cost of missing a good hole, we recommend only excluding holes that the model is very certain is bad. \n",
    "\n",
    "As holes are visited and ctf and ice thickness is collected, this information can be used to update the state using ```/visit_holes```. \n",
    "\n",
    "```\n",
    "payload={\n",
    "    'hole_ids': [list of visited hole ids]\n",
    "    'ctfs': [list of floats of the ctf resolution of the holes]\n",
    "    'ice_thicknesses': [list of floats of the ice thickness of the holes]\n",
    "}\n",
    "payload = json.dumps(payload)\n",
    "requests.post(baseurl + '/visit_holes', payload)\n",
    "```\n",
    "This also automatically marks the square that contains the hole as visited, and removes the hole from the set of ```active_holes```. \n",
    "\n",
    "The GP can be rerun on unvisited holes in the medium-mag image at any point by calling the GET request, ```/rerun_mm_on_active_holes```. This returns the hole_results dataframe but with fresh GP predictions using all hole data that was added to the current_mm_state, while any visited holes were automatically removed from the ```active_holes``` by ```/visit_holes```. \n",
    "\n",
    "If necessary, the GP can be rerun on an arbitrary set of holes via ```rerun_mm_on_arbitrary_holes```. \n",
    "\n",
    "Once imaging in a square has been exhausted, the workflow can be repeated by acquiring next square data by again calling ```select_next_square```, which will run the GP on the unvisited squares. \n",
    "\n",
    "[Probably say something about switching grids]\n",
    "\n",
    "Once collection on this session is finished, in order to clear the current session state and load potentially new historical and current states, call ```/initialize_new_session```.\n",
    "```\n",
    "payload={\n",
    "    'new_state_path': optional path to the new current state to load\n",
    "    'historical-state_paths': optional list of paths to historical states to be loaded\n",
    "    'save_state_path': optional path to save the current state at. \n",
    "}\n",
    "payload = json.dumps(payload)\n",
    "requests.post(baseurl + '/initialize_new_session', payload)\n",
    "```"
   ]
  },
  {
   "cell_type": "code",
   "execution_count": null,
   "metadata": {},
   "outputs": [],
   "source": []
  },
  {
   "cell_type": "markdown",
   "metadata": {},
   "source": []
  }
 ],
 "metadata": {
  "kernelspec": {
   "display_name": "ptolemy",
   "language": "python",
   "name": "python3"
  },
  "language_info": {
   "name": "python",
   "version": "3.8.12 | packaged by conda-forge | (default, Jan 30 2022, 23:13:24) \n[Clang 11.1.0 ]"
  },
  "orig_nbformat": 4,
  "vscode": {
   "interpreter": {
    "hash": "f3c1eb62205bb1fae3a89392d4c49ad8f8c29b6100d27f584d69a86f49446147"
   }
  }
 },
 "nbformat": 4,
 "nbformat_minor": 2
}
