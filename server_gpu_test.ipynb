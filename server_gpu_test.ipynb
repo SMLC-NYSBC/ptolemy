{
 "cells": [
  {
   "cell_type": "code",
   "execution_count": 11,
   "id": "e66e806a-18fe-4f0b-b38a-049a1dd948b3",
   "metadata": {},
   "outputs": [],
   "source": [
    "from ptolemy.Requester import Ptolemy_Requester\n",
    "from ptolemy.mrc import load_mrc\n",
    "import os\n",
    "import time"
   ]
  },
  {
   "cell_type": "code",
   "execution_count": 12,
   "id": "76d4e1b0-04e7-4f97-8046-921c321b0d3f",
   "metadata": {},
   "outputs": [],
   "source": [
    "requester = Ptolemy_Requester('http://127.0.0.1:8050/')"
   ]
  },
  {
   "cell_type": "code",
   "execution_count": 13,
   "id": "a2d4ca39-5ec4-4236-80a9-70608014ccf2",
   "metadata": {},
   "outputs": [],
   "source": [
    "paths = {\n",
    "    'lm': 'example_images/low_mag/20may08a_16760340.mrc',\n",
    "    'mm': 'example_images/med_mag/21feb25a_23139789.mrc'\n",
    "}"
   ]
  },
  {
   "cell_type": "markdown",
   "id": "825d93e7-7ad1-4bb7-9a92-159d7da019d0",
   "metadata": {},
   "source": [
    "# running first on CPU"
   ]
  },
  {
   "cell_type": "code",
   "execution_count": 14,
   "id": "6d2a817f-9410-4ab7-9815-341ebbd5ea3f",
   "metadata": {},
   "outputs": [],
   "source": [
    "lm_image = load_mrc(paths['lm'])"
   ]
  },
  {
   "cell_type": "code",
   "execution_count": 15,
   "id": "5f1feea0-52e6-491f-99d2-967a663fb58c",
   "metadata": {},
   "outputs": [],
   "source": [
    "requester.push_lm(lm_image, 0)"
   ]
  },
  {
   "cell_type": "code",
   "execution_count": 16,
   "id": "4661fef2-fa6b-4155-9983-cba5950cea2c",
   "metadata": {},
   "outputs": [
    {
     "name": "stdout",
     "output_type": "stream",
     "text": [
      "2.92 s ± 69 ms per loop (mean ± std. dev. of 7 runs, 1 loop each)\n"
     ]
    }
   ],
   "source": [
    "%timeit requester.push_lm(lm_image, 0)"
   ]
  },
  {
   "cell_type": "code",
   "execution_count": 17,
   "id": "120b4d16-0c13-4a3d-83a2-c1ffbcca273d",
   "metadata": {},
   "outputs": [],
   "source": [
    "mm_image = load_mrc(paths['mm'])"
   ]
  },
  {
   "cell_type": "code",
   "execution_count": 19,
   "id": "ab06851a-8dcd-4ec0-b1d6-48abf2ca88a1",
   "metadata": {},
   "outputs": [],
   "source": [
    "requester.set_noice_hole_intensity(mm_image.max() * 1.25)"
   ]
  },
  {
   "cell_type": "code",
   "execution_count": 20,
   "id": "cae0ede8-5ac4-4e2a-a794-d8e6c846f1ae",
   "metadata": {},
   "outputs": [
    {
     "name": "stdout",
     "output_type": "stream",
     "text": [
      "7.43 s ± 195 ms per loop (mean ± std. dev. of 7 runs, 1 loop each)\n"
     ]
    }
   ],
   "source": [
    "%timeit requester.push_and_evaluate_mm(mm_image, 0, 5)"
   ]
  },
  {
   "cell_type": "markdown",
   "id": "fe6a6d49-2f41-402f-b200-3ce511fc7145",
   "metadata": {},
   "source": [
    "# now testing on GPU"
   ]
  },
  {
   "cell_type": "code",
   "execution_count": 23,
   "id": "4df670e6-dd3a-4fa4-95d6-870e82b11bcc",
   "metadata": {},
   "outputs": [],
   "source": [
    "requester.set_config('ptolemy/default_config_gpu.json')"
   ]
  },
  {
   "cell_type": "code",
   "execution_count": 24,
   "id": "45d27283-a6e3-49df-8844-e33627fe31e7",
   "metadata": {},
   "outputs": [],
   "source": [
    "requester.push_lm(lm_image, 0)"
   ]
  },
  {
   "cell_type": "code",
   "execution_count": 25,
   "id": "4a10c5a9-1c6f-4e66-ba6d-d6642d96ae49",
   "metadata": {},
   "outputs": [
    {
     "name": "stdout",
     "output_type": "stream",
     "text": [
      "2.74 s ± 112 ms per loop (mean ± std. dev. of 7 runs, 1 loop each)\n"
     ]
    }
   ],
   "source": [
    "%timeit requester.push_lm(lm_image, 0)"
   ]
  },
  {
   "cell_type": "code",
   "execution_count": 26,
   "id": "c56934c7-285b-47cc-a2ab-061e3cd092e1",
   "metadata": {},
   "outputs": [],
   "source": [
    "mm_image = load_mrc(paths['mm'])"
   ]
  },
  {
   "cell_type": "code",
   "execution_count": 27,
   "id": "89163dfd-18cc-4603-9ec0-8d29cea69369",
   "metadata": {},
   "outputs": [],
   "source": [
    "requester.set_noice_hole_intensity(mm_image.max() * 1.25)"
   ]
  },
  {
   "cell_type": "code",
   "execution_count": 28,
   "id": "c39359c4-58e9-4701-9d18-9809e13e59eb",
   "metadata": {},
   "outputs": [
    {
     "name": "stdout",
     "output_type": "stream",
     "text": [
      "5.1 s ± 56.6 ms per loop (mean ± std. dev. of 7 runs, 1 loop each)\n"
     ]
    }
   ],
   "source": [
    "%timeit requester.push_and_evaluate_mm(mm_image, 0, 5)"
   ]
  },
  {
   "cell_type": "code",
   "execution_count": null,
   "id": "aaa98c29-3f8b-4113-ab70-0d815367b2ca",
   "metadata": {},
   "outputs": [],
   "source": []
  }
 ],
 "metadata": {
  "kernelspec": {
   "display_name": "Python 3 (ipykernel)",
   "language": "python",
   "name": "python3"
  },
  "language_info": {
   "codemirror_mode": {
    "name": "ipython",
    "version": 3
   },
   "file_extension": ".py",
   "mimetype": "text/x-python",
   "name": "python",
   "nbconvert_exporter": "python",
   "pygments_lexer": "ipython3",
   "version": "3.10.3"
  }
 },
 "nbformat": 4,
 "nbformat_minor": 5
}
